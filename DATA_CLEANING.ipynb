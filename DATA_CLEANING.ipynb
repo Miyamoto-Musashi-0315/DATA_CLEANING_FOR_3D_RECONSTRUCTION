{
  "nbformat": 4,
  "nbformat_minor": 0,
  "metadata": {
    "colab": {
      "provenance": [],
      "collapsed_sections": [
        "8RhFESta85MX",
        "hTs4R_5r_jb9",
        "NEX1ltg7jGks"
      ]
    },
    "kernelspec": {
      "name": "python3",
      "display_name": "Python 3"
    },
    "language_info": {
      "name": "python"
    }
  },
  "cells": [
    {
      "cell_type": "code",
      "source": [
        "from google.colab import drive\n",
        "drive.mount('/content/drive')"
      ],
      "metadata": {
        "colab": {
          "base_uri": "https://localhost:8080/"
        },
        "id": "kINix8E07lMF",
        "outputId": "ee895b25-d9f0-41d5-a714-c48c4ed52aa5"
      },
      "execution_count": null,
      "outputs": [
        {
          "output_type": "stream",
          "name": "stdout",
          "text": [
            "Drive already mounted at /content/drive; to attempt to forcibly remount, call drive.mount(\"/content/drive\", force_remount=True).\n"
          ]
        }
      ]
    },
    {
      "cell_type": "markdown",
      "source": [
        "## OCCLUSION DETECTION"
      ],
      "metadata": {
        "id": "uYmKe_p18kwo"
      }
    },
    {
      "cell_type": "code",
      "source": [
        "import torch\n",
        "model = torch.hub.load('ultralytics/yolov5', 'yolov5s', pretrained=True)\n",
        "\n",
        "\n",
        "\n",
        "def pathofimage(path):\n",
        "  from PIL import Image\n",
        "  # get image\n",
        "  filepath = path\n",
        "  img = Image.open(filepath)\n",
        "  # get width and height\n",
        "  width = img.width\n",
        "  height = img.height\n",
        "  x = width/2\n",
        "  y = height/2\n",
        "  return x,y,width,height\n",
        "\n",
        "\n",
        "\n",
        "def centerpointandcut(x,y,w,h):\n",
        "  width = 0.8*w\n",
        "  height = 0.8*h\n",
        "\n",
        "  x3, y3 = x - width/2, y - height/2\n",
        "  x4, y4 = x + width/2, y + height/2\n",
        "  return x3,y3,x4,y4\n",
        "\n",
        "\n",
        "def iouscore(x1,y1,x2,y2,x3,y3,x4,y4):\n",
        "  box1 = x1, y1, x2, y2\n",
        "  box2 = x3, y3, x4, y4\n",
        "  x_inter1 = max(x1, x3)\n",
        "  y_inter1 = max(y1, y3)\n",
        "  x_inter2 = min(x2, x4)\n",
        "  y_inter2 = min(y2, y4)\n",
        "  width_inter = abs(x_inter2 - x_inter1)\n",
        "  height_inter = abs(y_inter2 - y_inter1)\n",
        "  area_inter = width_inter * height_inter\n",
        "  width_box1 = abs(x2 - x1)\n",
        "  height_box1 = abs(y2 - y1)\n",
        "  width_box2 = abs(x4 - x3)\n",
        "  height_box2 = abs(y4 - y3)\n",
        "  area_box1 = width_box1 * height_box1\n",
        "  area_box2 = width_box2 * height_box2\n",
        "  area_union = area_box1 + area_box2 - area_inter\n",
        "  iou = area_inter / area_union\n",
        "  ioupercent = iou*100\n",
        "  return ioupercent\n",
        "\n",
        "\n",
        "def OcculsionDetector(img):\n",
        "    image = img\n",
        "    results = model(image)\n",
        "    results.print()\n",
        "    results.xyxy[0]\n",
        "    df = results.pandas().xyxy[0]\n",
        "    print(\"-----------------------------------------------------------------------------------------\")\n",
        "    print(\"THIS IS THE DATA FRAME OF THE DETECTED OBJECTS\")\n",
        "    print(df)\n",
        "    print(\"-----------------------------------------------------------------------------------------\")\n",
        "    print(\"    \")\n",
        "    for i in range(0,len(df.axes[0])):\n",
        "      print(\"-----------------------------------------------------------------------------------------\")\n",
        "      print(\"BOUNDING BOX NUMBER \",i)\n",
        "      print(\"-----------------------------------------------------------------------------------------\")\n",
        "      x1 = df['xmin'].loc[df.index[i]]\n",
        "      y1 = df['ymin'].loc[df.index[i]]\n",
        "      x2 = df['xmax'].loc[df.index[i]]\n",
        "      y2 = df['ymax'].loc[df.index[i]]\n",
        "      print(x1,y1,x2,y2)\n",
        "      print(\"     \")\n",
        "      x,y,w,h = pathofimage(image)\n",
        "      print(\"    \")\n",
        "      x3,y3,x4,y4 = centerpointandcut(x,y,w,h)\n",
        "      IOUPERCENT = iouscore(x1,y1,x2,y2,x3,y3,x4,y4)\n",
        "      print(\"THE IOU SCORE IS :\",IOUPERCENT)\n",
        "\n",
        "      if df['name'].loc[df.index[i]] == 'person' or df['name'].loc[df.index[i]] == 'airplane' or df['name'].loc[df.index[i]] == 'bird' or df['name'].loc[df.index[i]] == 'cat' or df['name'].loc[df.index[i]] == 'dog' or df['name'].loc[df.index[i]] == 'umbrella' or df['name'].loc[df.index[i]] == 'backpack' or df['name'].loc[df.index[i]] == 'cow' :\n",
        "         if IOUPERCENT > 0.8:\n",
        "           print(\"----------------------------------------------------------------------------------------\")\n",
        "           print(\"The given image has OCCULSION\")\n",
        "           print(\"LETS GO TO THE NEXT IMAGE\")\n",
        "           print(\"----------------------------------------------------------------------------------------\")\n",
        "           print(\"      \")\n",
        "           print(\"      \")\n",
        "           return 'Occulsy'\n",
        "           break\n",
        "      else:\n",
        "        print(\"NO OCCULSION FOUND\")\n",
        "        print(\"Going to the next image\")\n",
        "\n",
        "      return 'non Occulsy'\n"
      ],
      "metadata": {
        "colab": {
          "base_uri": "https://localhost:8080/"
        },
        "id": "bnZFi6kCsApM",
        "outputId": "188ebf99-fecf-468b-cae3-60c50d86bdb2"
      },
      "execution_count": null,
      "outputs": [
        {
          "output_type": "stream",
          "name": "stderr",
          "text": [
            "Using cache found in /root/.cache/torch/hub/ultralytics_yolov5_master\n",
            "YOLOv5 🚀 2022-11-26 Python-3.7.15 torch-1.12.1+cu113 CPU\n",
            "\n",
            "Fusing layers... \n",
            "YOLOv5s summary: 213 layers, 7225885 parameters, 0 gradients\n",
            "Adding AutoShape... \n"
          ]
        }
      ]
    },
    {
      "cell_type": "markdown",
      "source": [
        "## NOISE DETECTION"
      ],
      "metadata": {
        "id": "8RhFESta85MX"
      }
    },
    {
      "cell_type": "code",
      "source": [
        "import numpy as np\n",
        "import cv2\n",
        "from skimage.io import imread\n",
        "from matplotlib import pyplot as plt\n",
        "from pylab import *\n",
        "\n",
        "def entropy(im):\n",
        "    # Compute normalized histogram -> p(g)\n",
        "    p = np.array([(im==v).sum() for v in range(256)])\n",
        "    p = p/p.sum()\n",
        "    # Compute e = -sum(p(g)*log2(p(g)))\n",
        "    e = -(p[p>0]*np.log2(p[p>0])).sum()\n",
        "    return e\n",
        "\n",
        "\n",
        "def NoiseDetector(img):\n",
        "    im = imread(img)\n",
        "    plt.axis('off')\n",
        "    noise = entropy(im)\n",
        "    print(noise)\n",
        "    if noise > 1.5:\n",
        "      print(\"not noisy\")\n",
        "      return 'not noisy'\n",
        "    else:\n",
        "      print(\"noisy\")\n",
        "      return 'noisy'\n",
        "    plt.title(entropy(im))\n",
        "    plt.show()\n"
      ],
      "metadata": {
        "id": "CLTHDRjb83Jd"
      },
      "execution_count": null,
      "outputs": []
    },
    {
      "cell_type": "markdown",
      "source": [
        "## TEXT DETECTION"
      ],
      "metadata": {
        "id": "hTs4R_5r_jb9"
      }
    },
    {
      "cell_type": "code",
      "source": [
        "!pip install easyocr\n",
        "import pandas as pd\n",
        "import easyocr\n",
        "reader = easyocr.Reader(['en'], gpu = True)\n",
        "def TextDetector(image):\n",
        "  results = reader.readtext(image)\n",
        "  df = pd.DataFrame(results, columns=['bbox','text','conf'])\n",
        "  if df.empty or len(df.index) < 7:\n",
        "    return 'NON TEXTY'\n",
        "  else:\n",
        "    return 'TEXTY'"
      ],
      "metadata": {
        "colab": {
          "base_uri": "https://localhost:8080/"
        },
        "id": "F3Fkb5tn--lP",
        "outputId": "1f59e4e0-1aba-4951-fb0f-a556d8dc2c95"
      },
      "execution_count": null,
      "outputs": [
        {
          "output_type": "stream",
          "name": "stdout",
          "text": [
            "Looking in indexes: https://pypi.org/simple, https://us-python.pkg.dev/colab-wheels/public/simple/\n",
            "Requirement already satisfied: easyocr in /usr/local/lib/python3.7/dist-packages (1.6.2)\n",
            "Requirement already satisfied: scipy in /usr/local/lib/python3.7/dist-packages (from easyocr) (1.7.3)\n",
            "Requirement already satisfied: torchvision>=0.5 in /usr/local/lib/python3.7/dist-packages (from easyocr) (0.13.1+cu113)\n",
            "Requirement already satisfied: numpy in /usr/local/lib/python3.7/dist-packages (from easyocr) (1.21.6)\n",
            "Requirement already satisfied: Pillow in /usr/local/lib/python3.7/dist-packages (from easyocr) (7.1.2)\n",
            "Requirement already satisfied: Shapely in /usr/local/lib/python3.7/dist-packages (from easyocr) (1.8.5.post1)\n",
            "Requirement already satisfied: ninja in /usr/local/lib/python3.7/dist-packages (from easyocr) (1.11.1)\n",
            "Requirement already satisfied: opencv-python-headless<=4.5.4.60 in /usr/local/lib/python3.7/dist-packages (from easyocr) (4.5.4.60)\n",
            "Requirement already satisfied: pyclipper in /usr/local/lib/python3.7/dist-packages (from easyocr) (1.3.0.post4)\n",
            "Requirement already satisfied: PyYAML in /usr/local/lib/python3.7/dist-packages (from easyocr) (6.0)\n",
            "Requirement already satisfied: torch in /usr/local/lib/python3.7/dist-packages (from easyocr) (1.12.1+cu113)\n",
            "Requirement already satisfied: python-bidi in /usr/local/lib/python3.7/dist-packages (from easyocr) (0.4.2)\n",
            "Requirement already satisfied: scikit-image in /usr/local/lib/python3.7/dist-packages (from easyocr) (0.18.3)\n",
            "Requirement already satisfied: requests in /usr/local/lib/python3.7/dist-packages (from torchvision>=0.5->easyocr) (2.23.0)\n",
            "Requirement already satisfied: typing-extensions in /usr/local/lib/python3.7/dist-packages (from torchvision>=0.5->easyocr) (4.1.1)\n",
            "Requirement already satisfied: six in /usr/local/lib/python3.7/dist-packages (from python-bidi->easyocr) (1.15.0)\n",
            "Requirement already satisfied: urllib3!=1.25.0,!=1.25.1,<1.26,>=1.21.1 in /usr/local/lib/python3.7/dist-packages (from requests->torchvision>=0.5->easyocr) (1.24.3)\n",
            "Requirement already satisfied: idna<3,>=2.5 in /usr/local/lib/python3.7/dist-packages (from requests->torchvision>=0.5->easyocr) (2.10)\n",
            "Requirement already satisfied: certifi>=2017.4.17 in /usr/local/lib/python3.7/dist-packages (from requests->torchvision>=0.5->easyocr) (2022.9.24)\n",
            "Requirement already satisfied: chardet<4,>=3.0.2 in /usr/local/lib/python3.7/dist-packages (from requests->torchvision>=0.5->easyocr) (3.0.4)\n",
            "Requirement already satisfied: matplotlib!=3.0.0,>=2.0.0 in /usr/local/lib/python3.7/dist-packages (from scikit-image->easyocr) (3.2.2)\n",
            "Requirement already satisfied: imageio>=2.3.0 in /usr/local/lib/python3.7/dist-packages (from scikit-image->easyocr) (2.9.0)\n",
            "Requirement already satisfied: PyWavelets>=1.1.1 in /usr/local/lib/python3.7/dist-packages (from scikit-image->easyocr) (1.3.0)\n",
            "Requirement already satisfied: networkx>=2.0 in /usr/local/lib/python3.7/dist-packages (from scikit-image->easyocr) (2.6.3)\n",
            "Requirement already satisfied: tifffile>=2019.7.26 in /usr/local/lib/python3.7/dist-packages (from scikit-image->easyocr) (2021.11.2)\n",
            "Requirement already satisfied: python-dateutil>=2.1 in /usr/local/lib/python3.7/dist-packages (from matplotlib!=3.0.0,>=2.0.0->scikit-image->easyocr) (2.8.2)\n",
            "Requirement already satisfied: pyparsing!=2.0.4,!=2.1.2,!=2.1.6,>=2.0.1 in /usr/local/lib/python3.7/dist-packages (from matplotlib!=3.0.0,>=2.0.0->scikit-image->easyocr) (3.0.9)\n",
            "Requirement already satisfied: cycler>=0.10 in /usr/local/lib/python3.7/dist-packages (from matplotlib!=3.0.0,>=2.0.0->scikit-image->easyocr) (0.11.0)\n",
            "Requirement already satisfied: kiwisolver>=1.0.1 in /usr/local/lib/python3.7/dist-packages (from matplotlib!=3.0.0,>=2.0.0->scikit-image->easyocr) (1.4.4)\n"
          ]
        },
        {
          "output_type": "stream",
          "name": "stderr",
          "text": [
            "WARNING:easyocr.easyocr:CUDA not available - defaulting to CPU. Note: This module is much faster with a GPU.\n"
          ]
        }
      ]
    },
    {
      "cell_type": "markdown",
      "source": [
        "## BLUR DETECTION"
      ],
      "metadata": {
        "id": "NEX1ltg7jGks"
      }
    },
    {
      "cell_type": "code",
      "source": [
        "import cv2\n",
        "\n",
        "def calculate_focal_measure(img):\n",
        "    # convert RGB image to Gray scale image\n",
        "    gray = cv2.cvtColor(img, cv2.COLOR_BGR2GRAY)\n",
        "    # Measure focal measure score (laplacian approach)\n",
        "    fm = cv2.Laplacian(gray, cv2.CV_64F).var()\n",
        "    return fm\n",
        "\n",
        "def BlurDetector(img):\n",
        "    imagePath = img\n",
        "    image = cv2.imread(imagePath)\n",
        "    focal_measure = calculate_focal_measure(image)\n",
        "\n",
        "    print(\"focal-measure-score\",focal_measure)\n",
        "    if focal_measure > 20:\n",
        "       print(\"Non Blurry\")\n",
        "       return 'Non Blurry'\n",
        "       color = (255, 0, 0)\n",
        "    else:\n",
        "       print(\"Blurry\")\n",
        "       return 'Blurry'\n",
        "       color = (0, 0, 255)\n"
      ],
      "metadata": {
        "id": "ZIBBkZ_wjFkU"
      },
      "execution_count": null,
      "outputs": []
    },
    {
      "cell_type": "code",
      "source": [],
      "metadata": {
        "id": "hnLAp7ATkVqV"
      },
      "execution_count": null,
      "outputs": []
    },
    {
      "cell_type": "markdown",
      "source": [
        "## MAIN FUNCTION"
      ],
      "metadata": {
        "id": "yxRLoOm8mLcT"
      }
    },
    {
      "cell_type": "code",
      "source": [
        "import cv2\n",
        "import glob\n",
        "import shutil\n",
        "import os\n",
        "for img in glob.glob(\"/content/drive/MyDrive/Hampi/Hampi/Site-1-Saasivekaalu_Ganesha/Session 1/Noisy_with_occlusion/*.jpg\"):\n",
        "  if OcculsionDetector(img) == 'Occulsy':\n",
        "    src_dir = img\n",
        "    dst_dir = \"/content/drive/MyDrive/HampiDublicate/Site-1/session-1/Occlusion_Images\"\n",
        "    shutil.copy(src_dir, dst_dir)\n"
      ],
      "metadata": {
        "colab": {
          "base_uri": "https://localhost:8080/"
        },
        "id": "ibayxuRVmwk_",
        "outputId": "1715a571-6f0e-4049-f9d2-7948708ed95c"
      },
      "execution_count": null,
      "outputs": [
        {
          "output_type": "stream",
          "name": "stderr",
          "text": [
            "image 1/1: 2368x4208 2 persons\n",
            "Speed: 470.6ms pre-process, 404.0ms inference, 1.7ms NMS per image at shape (1, 3, 384, 640)\n"
          ]
        },
        {
          "output_type": "stream",
          "name": "stdout",
          "text": [
            "-----------------------------------------------------------------------------------------\n",
            "THIS IS THE DATA FRAME OF THE DETECTED OBJECTS\n",
            "          xmin         ymin         xmax         ymax  confidence  class  \\\n",
            "0  2966.751709  1855.417236  3249.857910  2362.648193    0.897945      0   \n",
            "1  3598.815430  1974.543457  3989.300781  2367.848389    0.886567      0   \n",
            "\n",
            "     name  \n",
            "0  person  \n",
            "1  person  \n",
            "-----------------------------------------------------------------------------------------\n",
            "    \n",
            "-----------------------------------------------------------------------------------------\n",
            "BOUNDING BOX NUMBER  0\n",
            "-----------------------------------------------------------------------------------------\n",
            "2966.751708984375 1855.417236328125 3249.85791015625 2362.648193359375\n",
            "     \n",
            "    \n",
            "THE IOU SCORE IS : 1.2118242964880475\n",
            "----------------------------------------------------------------------------------------\n",
            "The given image has OCCULSION\n",
            "LETS GO TO THE NEXT IMAGE\n",
            "----------------------------------------------------------------------------------------\n",
            "      \n",
            "      \n"
          ]
        },
        {
          "output_type": "stream",
          "name": "stderr",
          "text": [
            "image 1/1: 2368x4208 1 person\n",
            "Speed: 732.4ms pre-process, 469.4ms inference, 1.8ms NMS per image at shape (1, 3, 384, 640)\n"
          ]
        },
        {
          "output_type": "stream",
          "name": "stdout",
          "text": [
            "-----------------------------------------------------------------------------------------\n",
            "THIS IS THE DATA FRAME OF THE DETECTED OBJECTS\n",
            "          xmin        ymin        xmax         ymax  confidence  class    name\n",
            "0  2884.677979  1429.99939  3289.92749  2356.068359    0.914654      0  person\n",
            "-----------------------------------------------------------------------------------------\n",
            "    \n",
            "-----------------------------------------------------------------------------------------\n",
            "BOUNDING BOX NUMBER  0\n",
            "-----------------------------------------------------------------------------------------\n",
            "2884.677978515625 1429.9993896484375 3289.927490234375 2356.068359375\n",
            "     \n",
            "    \n",
            "THE IOU SCORE IS : 4.393043496661632\n",
            "----------------------------------------------------------------------------------------\n",
            "The given image has OCCULSION\n",
            "LETS GO TO THE NEXT IMAGE\n",
            "----------------------------------------------------------------------------------------\n",
            "      \n",
            "      \n"
          ]
        },
        {
          "output_type": "stream",
          "name": "stderr",
          "text": [
            "image 1/1: 2368x4208 2 persons\n",
            "Speed: 816.8ms pre-process, 289.5ms inference, 1.8ms NMS per image at shape (1, 3, 384, 640)\n"
          ]
        },
        {
          "output_type": "stream",
          "name": "stdout",
          "text": [
            "-----------------------------------------------------------------------------------------\n",
            "THIS IS THE DATA FRAME OF THE DETECTED OBJECTS\n",
            "          xmin         ymin         xmax         ymax  confidence  class  \\\n",
            "0  2675.457275  1411.545776  3136.740967  2360.998535    0.898591      0   \n",
            "1  4019.120605  1426.668579  4207.790039  2343.772461    0.771962      0   \n",
            "\n",
            "     name  \n",
            "0  person  \n",
            "1  person  \n",
            "-----------------------------------------------------------------------------------------\n",
            "    \n",
            "-----------------------------------------------------------------------------------------\n",
            "BOUNDING BOX NUMBER  0\n",
            "-----------------------------------------------------------------------------------------\n",
            "2675.457275390625 1411.5457763671875 3136.740966796875 2360.99853515625\n",
            "     \n",
            "    \n",
            "THE IOU SCORE IS : 5.120297076821927\n",
            "----------------------------------------------------------------------------------------\n",
            "The given image has OCCULSION\n",
            "LETS GO TO THE NEXT IMAGE\n",
            "----------------------------------------------------------------------------------------\n",
            "      \n",
            "      \n"
          ]
        },
        {
          "output_type": "stream",
          "name": "stderr",
          "text": [
            "image 1/1: 2368x4208 3 persons\n",
            "Speed: 830.6ms pre-process, 494.8ms inference, 2.3ms NMS per image at shape (1, 3, 384, 640)\n"
          ]
        },
        {
          "output_type": "stream",
          "name": "stdout",
          "text": [
            "-----------------------------------------------------------------------------------------\n",
            "THIS IS THE DATA FRAME OF THE DETECTED OBJECTS\n",
            "          xmin         ymin         xmax         ymax  confidence  class  \\\n",
            "0  3645.910645  1429.453979  4108.186523  2360.794189    0.917397      0   \n",
            "1  2426.050781  1380.921753  2801.510986  2355.799561    0.914173      0   \n",
            "2  2756.508057  1580.252808  3016.023926  2364.618408    0.908414      0   \n",
            "\n",
            "     name  \n",
            "0  person  \n",
            "1  person  \n",
            "2  person  \n",
            "-----------------------------------------------------------------------------------------\n",
            "    \n",
            "-----------------------------------------------------------------------------------------\n",
            "BOUNDING BOX NUMBER  0\n",
            "-----------------------------------------------------------------------------------------\n",
            "3645.91064453125 1429.4539794921875 4108.1865234375 2360.794189453125\n",
            "     \n",
            "    \n",
            "THE IOU SCORE IS : 1.4779214508856238\n",
            "----------------------------------------------------------------------------------------\n",
            "The given image has OCCULSION\n",
            "LETS GO TO THE NEXT IMAGE\n",
            "----------------------------------------------------------------------------------------\n",
            "      \n",
            "      \n"
          ]
        },
        {
          "output_type": "stream",
          "name": "stderr",
          "text": [
            "image 1/1: 2368x4208 3 persons\n",
            "Speed: 602.4ms pre-process, 235.2ms inference, 1.4ms NMS per image at shape (1, 3, 384, 640)\n"
          ]
        },
        {
          "output_type": "stream",
          "name": "stdout",
          "text": [
            "-----------------------------------------------------------------------------------------\n",
            "THIS IS THE DATA FRAME OF THE DETECTED OBJECTS\n",
            "          xmin         ymin         xmax         ymax  confidence  class  \\\n",
            "0  2113.522949  1416.556763  2484.956055  2358.322021    0.905522      0   \n",
            "1  2444.651123  1648.180908  2748.603760  2366.395996    0.890098      0   \n",
            "2  3384.323242  1494.408325  3820.015625  2354.643799    0.849885      0   \n",
            "\n",
            "     name  \n",
            "0  person  \n",
            "1  person  \n",
            "2  person  \n",
            "-----------------------------------------------------------------------------------------\n",
            "    \n",
            "-----------------------------------------------------------------------------------------\n",
            "BOUNDING BOX NUMBER  0\n",
            "-----------------------------------------------------------------------------------------\n",
            "2113.52294921875 1416.5567626953125 2484.9560546875 2358.322021484375\n",
            "     \n",
            "    \n",
            "THE IOU SCORE IS : 4.10795051931983\n",
            "----------------------------------------------------------------------------------------\n",
            "The given image has OCCULSION\n",
            "LETS GO TO THE NEXT IMAGE\n",
            "----------------------------------------------------------------------------------------\n",
            "      \n",
            "      \n"
          ]
        },
        {
          "output_type": "stream",
          "name": "stderr",
          "text": [
            "image 1/1: 2368x4208 3 persons\n",
            "Speed: 556.6ms pre-process, 228.2ms inference, 1.3ms NMS per image at shape (1, 3, 384, 640)\n"
          ]
        },
        {
          "output_type": "stream",
          "name": "stdout",
          "text": [
            "-----------------------------------------------------------------------------------------\n",
            "THIS IS THE DATA FRAME OF THE DETECTED OBJECTS\n",
            "          xmin         ymin         xmax         ymax  confidence  class  \\\n",
            "0  2123.296631  1348.246216  2512.507812  2354.652588    0.919797      0   \n",
            "1  2517.262451  1553.503662  2823.072754  2356.504395    0.912057      0   \n",
            "2  3491.339600  1427.927368  3963.823730  2357.241699    0.908400      0   \n",
            "\n",
            "     name  \n",
            "0  person  \n",
            "1  person  \n",
            "2  person  \n",
            "-----------------------------------------------------------------------------------------\n",
            "    \n",
            "-----------------------------------------------------------------------------------------\n",
            "BOUNDING BOX NUMBER  0\n",
            "-----------------------------------------------------------------------------------------\n",
            "2123.296630859375 1348.2462158203125 2512.5078125 2354.652587890625\n",
            "     \n",
            "    \n",
            "THE IOU SCORE IS : 4.714128142104798\n",
            "----------------------------------------------------------------------------------------\n",
            "The given image has OCCULSION\n",
            "LETS GO TO THE NEXT IMAGE\n",
            "----------------------------------------------------------------------------------------\n",
            "      \n",
            "      \n"
          ]
        },
        {
          "output_type": "stream",
          "name": "stderr",
          "text": [
            "image 1/1: 2368x4208 4 persons\n",
            "Speed: 575.2ms pre-process, 235.0ms inference, 1.4ms NMS per image at shape (1, 3, 384, 640)\n"
          ]
        },
        {
          "output_type": "stream",
          "name": "stdout",
          "text": [
            "-----------------------------------------------------------------------------------------\n",
            "THIS IS THE DATA FRAME OF THE DETECTED OBJECTS\n",
            "          xmin         ymin         xmax         ymax  confidence  class  \\\n",
            "0  2077.673828  1427.509277  2391.743652  2361.161377    0.917614      0   \n",
            "1  3254.924561  1273.837646  3711.083496  2353.045410    0.911512      0   \n",
            "2  1669.886963  1222.127563  2065.775146  2353.311279    0.896484      0   \n",
            "3  4096.700684  1280.172241  4206.678711  1932.182495    0.368095      0   \n",
            "\n",
            "     name  \n",
            "0  person  \n",
            "1  person  \n",
            "2  person  \n",
            "3  person  \n",
            "-----------------------------------------------------------------------------------------\n",
            "    \n",
            "-----------------------------------------------------------------------------------------\n",
            "BOUNDING BOX NUMBER  0\n",
            "-----------------------------------------------------------------------------------------\n",
            "2077.673828125 1427.50927734375 2391.74365234375 2361.161376953125\n",
            "     \n",
            "    \n",
            "THE IOU SCORE IS : 3.426729544269426\n",
            "----------------------------------------------------------------------------------------\n",
            "The given image has OCCULSION\n",
            "LETS GO TO THE NEXT IMAGE\n",
            "----------------------------------------------------------------------------------------\n",
            "      \n",
            "      \n"
          ]
        },
        {
          "output_type": "stream",
          "name": "stderr",
          "text": [
            "image 1/1: 2368x4208 4 persons\n",
            "Speed: 532.8ms pre-process, 227.1ms inference, 1.3ms NMS per image at shape (1, 3, 384, 640)\n"
          ]
        },
        {
          "output_type": "stream",
          "name": "stdout",
          "text": [
            "-----------------------------------------------------------------------------------------\n",
            "THIS IS THE DATA FRAME OF THE DETECTED OBJECTS\n",
            "          xmin         ymin         xmax         ymax  confidence  class  \\\n",
            "0  3067.787354  1615.430298  3495.848145  2365.033203    0.920135      0   \n",
            "1  1349.900879  1527.012207  1749.954102  2360.356201    0.918045      0   \n",
            "2  1857.435913  1752.271118  2212.214355  2368.000000    0.871093      0   \n",
            "3  3784.807129  1488.366333  4208.000000  2356.296875    0.804459      0   \n",
            "\n",
            "     name  \n",
            "0  person  \n",
            "1  person  \n",
            "2  person  \n",
            "3  person  \n",
            "-----------------------------------------------------------------------------------------\n",
            "    \n",
            "-----------------------------------------------------------------------------------------\n",
            "BOUNDING BOX NUMBER  0\n",
            "-----------------------------------------------------------------------------------------\n",
            "3067.787353515625 1615.4302978515625 3495.84814453125 2365.033203125\n",
            "     \n",
            "    \n",
            "THE IOU SCORE IS : 3.4084769338005567\n",
            "----------------------------------------------------------------------------------------\n",
            "The given image has OCCULSION\n",
            "LETS GO TO THE NEXT IMAGE\n",
            "----------------------------------------------------------------------------------------\n",
            "      \n",
            "      \n"
          ]
        },
        {
          "output_type": "stream",
          "name": "stderr",
          "text": [
            "image 1/1: 2368x4208 3 persons, 1 cell phone\n",
            "Speed: 513.1ms pre-process, 225.5ms inference, 1.3ms NMS per image at shape (1, 3, 384, 640)\n"
          ]
        },
        {
          "output_type": "stream",
          "name": "stdout",
          "text": [
            "-----------------------------------------------------------------------------------------\n",
            "THIS IS THE DATA FRAME OF THE DETECTED OBJECTS\n",
            "          xmin         ymin         xmax         ymax  confidence  class  \\\n",
            "0  3284.197754   950.315063  4204.075684  2350.145996    0.921825      0   \n",
            "1   999.511292  1546.447876  1411.570312  2354.736084    0.921199      0   \n",
            "2  1605.016602  1805.670654  1963.535522  2361.896973    0.855716      0   \n",
            "3  4064.375977  1217.079956  4207.858887  1637.481079    0.786175     67   \n",
            "\n",
            "         name  \n",
            "0      person  \n",
            "1      person  \n",
            "2      person  \n",
            "3  cell phone  \n",
            "-----------------------------------------------------------------------------------------\n",
            "    \n",
            "-----------------------------------------------------------------------------------------\n",
            "BOUNDING BOX NUMBER  0\n",
            "-----------------------------------------------------------------------------------------\n",
            "3284.19775390625 950.3150634765625 4204.07568359375 2350.14599609375\n",
            "     \n",
            "    \n",
            "THE IOU SCORE IS : 8.400343408719358\n",
            "----------------------------------------------------------------------------------------\n",
            "The given image has OCCULSION\n",
            "LETS GO TO THE NEXT IMAGE\n",
            "----------------------------------------------------------------------------------------\n",
            "      \n",
            "      \n"
          ]
        },
        {
          "output_type": "stream",
          "name": "stderr",
          "text": [
            "image 1/1: 2368x4208 4 persons\n",
            "Speed: 541.3ms pre-process, 261.3ms inference, 1.3ms NMS per image at shape (1, 3, 384, 640)\n"
          ]
        },
        {
          "output_type": "stream",
          "name": "stdout",
          "text": [
            "-----------------------------------------------------------------------------------------\n",
            "THIS IS THE DATA FRAME OF THE DETECTED OBJECTS\n",
            "          xmin         ymin         xmax         ymax  confidence  class  \\\n",
            "0   810.627625  1427.328003  1252.956543  2350.881104    0.921919      0   \n",
            "1  1484.494507  1648.941406  1848.747314  2356.203369    0.904203      0   \n",
            "2  2692.898193   591.953491  3877.648193  2324.806641    0.895616      0   \n",
            "3  3753.881348   993.509033  4205.210938  2347.121094    0.850275      0   \n",
            "\n",
            "     name  \n",
            "0  person  \n",
            "1  person  \n",
            "2  person  \n",
            "3  person  \n",
            "-----------------------------------------------------------------------------------------\n",
            "    \n",
            "-----------------------------------------------------------------------------------------\n",
            "BOUNDING BOX NUMBER  0\n",
            "-----------------------------------------------------------------------------------------\n",
            "810.6276245117188 1427.3280029296875 1252.95654296875 2350.881103515625\n",
            "     \n",
            "    \n",
            "THE IOU SCORE IS : 4.808771745791304\n",
            "----------------------------------------------------------------------------------------\n",
            "The given image has OCCULSION\n",
            "LETS GO TO THE NEXT IMAGE\n",
            "----------------------------------------------------------------------------------------\n",
            "      \n",
            "      \n"
          ]
        },
        {
          "output_type": "stream",
          "name": "stderr",
          "text": [
            "image 1/1: 2368x4208 3 persons\n",
            "Speed: 609.0ms pre-process, 269.7ms inference, 1.3ms NMS per image at shape (1, 3, 384, 640)\n"
          ]
        },
        {
          "output_type": "stream",
          "name": "stdout",
          "text": [
            "-----------------------------------------------------------------------------------------\n",
            "THIS IS THE DATA FRAME OF THE DETECTED OBJECTS\n",
            "          xmin         ymin         xmax         ymax  confidence  class  \\\n",
            "0  1241.505493   789.292175  2723.989502  2358.897217    0.934223      0   \n",
            "1  1131.151978  1428.654785  1362.817627  2353.309082    0.884986      0   \n",
            "2  3420.982666   744.042908  4208.000000  2359.027100    0.749714      0   \n",
            "\n",
            "     name  \n",
            "0  person  \n",
            "1  person  \n",
            "2  person  \n",
            "-----------------------------------------------------------------------------------------\n",
            "    \n",
            "-----------------------------------------------------------------------------------------\n",
            "BOUNDING BOX NUMBER  0\n",
            "-----------------------------------------------------------------------------------------\n",
            "1241.5054931640625 789.2921752929688 2723.989501953125 2358.897216796875\n",
            "     \n",
            "    \n",
            "THE IOU SCORE IS : 29.62616077874667\n",
            "----------------------------------------------------------------------------------------\n",
            "The given image has OCCULSION\n",
            "LETS GO TO THE NEXT IMAGE\n",
            "----------------------------------------------------------------------------------------\n",
            "      \n",
            "      \n"
          ]
        },
        {
          "output_type": "stream",
          "name": "stderr",
          "text": [
            "image 1/1: 2368x4208 3 persons, 1 skateboard\n",
            "Speed: 539.8ms pre-process, 233.4ms inference, 1.3ms NMS per image at shape (1, 3, 384, 640)\n"
          ]
        },
        {
          "output_type": "stream",
          "name": "stdout",
          "text": [
            "-----------------------------------------------------------------------------------------\n",
            "THIS IS THE DATA FRAME OF THE DETECTED OBJECTS\n",
            "          xmin         ymin         xmax         ymax  confidence  class  \\\n",
            "0   623.736633  1170.692139  1128.814331  2354.020752    0.937248      0   \n",
            "1     0.312774  1385.343384   135.687943  2223.142334    0.812470      0   \n",
            "2     0.000000  2110.018066   138.817978  2257.605713    0.612521     36   \n",
            "3  4167.257812   692.235901  4207.843750   861.612366    0.288279      0   \n",
            "\n",
            "         name  \n",
            "0      person  \n",
            "1      person  \n",
            "2  skateboard  \n",
            "3      person  \n",
            "-----------------------------------------------------------------------------------------\n",
            "    \n",
            "-----------------------------------------------------------------------------------------\n",
            "BOUNDING BOX NUMBER  0\n",
            "-----------------------------------------------------------------------------------------\n",
            "623.7366333007812 1170.692138671875 1128.8143310546875 2354.020751953125\n",
            "     \n",
            "    \n",
            "THE IOU SCORE IS : 7.4752282846556914\n",
            "----------------------------------------------------------------------------------------\n",
            "The given image has OCCULSION\n",
            "LETS GO TO THE NEXT IMAGE\n",
            "----------------------------------------------------------------------------------------\n",
            "      \n",
            "      \n"
          ]
        }
      ]
    },
    {
      "cell_type": "code",
      "source": [],
      "metadata": {
        "id": "XqwN_2I2rg1s"
      },
      "execution_count": null,
      "outputs": []
    }
  ]
}